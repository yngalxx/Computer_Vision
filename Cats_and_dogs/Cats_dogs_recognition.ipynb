{
 "cells": [
  {
   "cell_type": "code",
   "execution_count": 57,
   "metadata": {},
   "outputs": [],
   "source": [
    "%matplotlib inline\n",
    "\n",
    "import matplotlib.pyplot as plt\n",
    "import os\n",
    "import pandas as pd\n",
    "import numpy as np\n",
    "import random\n",
    "import cv2\n",
    "from sklearn import metrics\n",
    "from tqdm.notebook import trange, tqdm\n",
    "from sklearn import preprocessing\n",
    "import sys\n",
    "import tensorflow as tf\n",
    "from tensorflow import keras as k\n",
    "from tensorflow.keras.models import Sequential\n",
    "from sklearn.model_selection import train_test_split\n",
    "import glob\n",
    "\n",
    "import warnings\n",
    "warnings.filterwarnings('ignore')"
   ]
  },
  {
   "cell_type": "markdown",
   "metadata": {},
   "source": [
    "<b>Useful source:</b> https://www.kaggle.com/c/dogs-vs-cats/data (datset), https://towardsdatascience.com/wtf-is-image-classification-8e78a8235acb (general basic knowledge how to start dealing with computer vision), https://towardsdatascience.com/image-pre-processing-c1aec0be3edf (how to pre-process data), https://ujjwalkarn.me/2016/08/11/intuitive-explanation-convnets/ (how cnn works), https://ujjwalkarn.me/2016/08/09/quick-intro-neural-networks/ (quick introduction to nn in general), https://towardsdatascience.com/image-processing-techniques-for-computer-vision-11f92f511e21 (images preprocessing and data augmentation)"
   ]
  },
  {
   "cell_type": "markdown",
   "metadata": {},
   "source": [
    "### Operations used:"
   ]
  },
  {
   "cell_type": "markdown",
   "metadata": {},
   "source": [
    "#### 1) Standarization"
   ]
  },
  {
   "cell_type": "markdown",
   "metadata": {},
   "source": [
    "Resizing every image to exactly same shape"
   ]
  },
  {
   "cell_type": "markdown",
   "metadata": {},
   "source": [
    "#### 2) Denoise \n",
    "Smoothing images to remove noise we do not want them to appear on our photos. Noise is somrthing unwanted wich do not bring any information, moreover it could disrupt our model in recognizing our target. Our action helps enhance image structures."
   ]
  },
  {
   "cell_type": "markdown",
   "metadata": {},
   "source": [
    "#### 3) Grayscale (finally not used)\n",
    "\n",
    "Due to only one color channel in grayscale photos processing is at least 3 times faster. To gender recognition photos color in my opinion is not useful. When we will be predicting ethnicity in the next project's stage, color of photos could be useful. I will find out it during work on the second stage of project, because it's my first step to understand computer vision, so my knowledge about it is a bit basic now."
   ]
  },
  {
   "cell_type": "markdown",
   "metadata": {},
   "source": [
    "In computer vision is something called thumb rule to recognize color importance in a project. It refers to look at the picture with human eye and try to recognize object we are looking for in a grayscaled photo. If we can, color it's not important. I think that we are able to approximate human age without colors attendance at the picture, so in my opinion this rule is fullfiled in this case."
   ]
  },
  {
   "cell_type": "markdown",
   "metadata": {},
   "source": [
    "<b>Useful source:</b> https://manningbooks.medium.com/the-computer-vision-pipeline-part-3-image-preprocessing-c662094835ec"
   ]
  },
  {
   "cell_type": "markdown",
   "metadata": {},
   "source": [
    "#### 4) Normalization\n",
    "Firstly normalization of photos' pixels helps us avoid situation where big pixels dominate smaller ones because of huge range (here 0 to 255). Secondly many algorithms behave well on normalized data rather than on not normalized."
   ]
  },
  {
   "cell_type": "markdown",
   "metadata": {},
   "source": [
    "<b>Useful source:</b> https://medium.com/@kharikri/image-processing-tips-for-computer-vision-and-deep-learning-tasks-e5247ec94f3"
   ]
  },
  {
   "cell_type": "markdown",
   "metadata": {},
   "source": [
    "### Loading images and data manipulations"
   ]
  },
  {
   "cell_type": "code",
   "execution_count": 58,
   "metadata": {},
   "outputs": [],
   "source": [
    "# resizing variables\n",
    "height, width = 68, 68\n",
    "gray_scale = False\n",
    "if gray_scale == True:\n",
    "    channels = 1\n",
    "else:\n",
    "    channels = 3"
   ]
  },
  {
   "cell_type": "code",
   "execution_count": 59,
   "metadata": {},
   "outputs": [],
   "source": [
    "def load_photo_and_preprocess(\n",
    "    path_to_images, \n",
    "    class_1, \n",
    "    class_2,\n",
    "    height,\n",
    "    width,\n",
    "    gray_scale = True,\n",
    "):\n",
    "    X = []\n",
    "    y = []\n",
    "    os.chdir(path_to_images)\n",
    "    for img_name in tqdm(os.listdir(path_to_images)):\n",
    "        img = cv2.imread(img_name)   \n",
    "        # Standarization\n",
    "        img = cv2.resize(img, (height, width), interpolation = cv2.INTER_AREA)\n",
    "        # Denoise\n",
    "        img = cv2.GaussianBlur(img, (5, 5), 0)\n",
    "        # Grayscale \n",
    "        if gray_scale == True:\n",
    "            img = cv2.cvtColor(img, cv2.COLOR_BGR2GRAY)\n",
    "        else:\n",
    "            pass\n",
    "        # Normalization\n",
    "        img = img/255\n",
    "        X.append(img)\n",
    "        # Getting labels\n",
    "        if img_name.split('.')[0] == class_1:\n",
    "            y.append(0) \n",
    "        elif img_name.split('.')[0] == class_2:\n",
    "            y.append(1) \n",
    "\n",
    "    # transforming label to appropriate format\n",
    "    y = k.utils.to_categorical(y, num_classes=2)\n",
    "    \n",
    "    # list to array transform\n",
    "    X = np.array(X)\n",
    "    \n",
    "    return X, y"
   ]
  },
  {
   "cell_type": "code",
   "execution_count": 60,
   "metadata": {},
   "outputs": [
    {
     "data": {
      "application/vnd.jupyter.widget-view+json": {
       "model_id": "1027b3e64a3d4380a57c23eee3444890",
       "version_major": 2,
       "version_minor": 0
      },
      "text/plain": [
       "HBox(children=(FloatProgress(value=0.0, max=25000.0), HTML(value='')))"
      ]
     },
     "metadata": {},
     "output_type": "display_data"
    },
    {
     "name": "stdout",
     "output_type": "stream",
     "text": [
      "\n"
     ]
    }
   ],
   "source": [
    "X, y = load_photo_and_preprocess(\n",
    "    '/Users/alexdrozdz/JupyterNotebook/Cats_dogs/Data',\n",
    "    'cat',\n",
    "    'dog',\n",
    "    height,\n",
    "    width,\n",
    "    gray_scale = gray_scale,\n",
    ")"
   ]
  },
  {
   "cell_type": "code",
   "execution_count": 61,
   "metadata": {},
   "outputs": [
    {
     "name": "stdout",
     "output_type": "stream",
     "text": [
      "Image shape:  (68, 68, 3)\n"
     ]
    }
   ],
   "source": [
    "print(\"Image shape: \", X[0].shape)"
   ]
  },
  {
   "cell_type": "code",
   "execution_count": 62,
   "metadata": {},
   "outputs": [],
   "source": [
    "def plot_image(\n",
    "    index, \n",
    "    X, \n",
    "    y, \n",
    "    class_1, \n",
    "    class_2,\n",
    "    gray_scale = True,\n",
    "):\n",
    "    if gray_scale == True:\n",
    "        plt.imshow(X[index], cmap='gray')\n",
    "    else:\n",
    "        img = X[index]\n",
    "        # opencv only supports image display and operation of float32, \n",
    "        # then float64 is a numpy data type, which is not supported in opencv.\n",
    "        img = img.astype('float32')\n",
    "        img = cv2.cvtColor(img, cv2.COLOR_BGRA2RGB)\n",
    "        plt.imshow(img)\n",
    "    plt.show()\n",
    "    if y[index][0] == 1:\n",
    "        label = class_1\n",
    "    elif y[index][0] == 0:\n",
    "        label = class_2\n",
    "    print(f\"Label: {label}\")"
   ]
  },
  {
   "cell_type": "code",
   "execution_count": 63,
   "metadata": {},
   "outputs": [
    {
     "data": {
      "image/png": "[encoded data removed]",
      "text/plain": [
       "<Figure size 432x288 with 1 Axes>"
      ]
     },
     "metadata": {
      "needs_background": "light"
     },
     "output_type": "display_data"
    },
    {
     "name": "stdout",
     "output_type": "stream",
     "text": [
      "Label: cat\n"
     ]
    }
   ],
   "source": [
    "plot_image(np.random.randint(len(X)), X, y, 'cat', 'dog', gray_scale = gray_scale)"
   ]
  },
  {
   "cell_type": "markdown",
   "metadata": {},
   "source": [
    "#### Train test split"
   ]
  },
  {
   "cell_type": "code",
   "execution_count": 64,
   "metadata": {},
   "outputs": [
    {
     "name": "stdout",
     "output_type": "stream",
     "text": [
      "Dataset length: 25000\n"
     ]
    }
   ],
   "source": [
    "print(f\"Dataset length: {len(X)}\")"
   ]
  },
  {
   "cell_type": "code",
   "execution_count": 65,
   "metadata": {},
   "outputs": [],
   "source": [
    "X_train, X_test, y_train, y_test = train_test_split(\n",
    "    X, y, test_size=0.2, shuffle=True, random_state = 1234\n",
    ")\n",
    "\n",
    "X_val, X_test, y_val, y_test = train_test_split(\n",
    "    X_test, y_test, test_size=0.5, shuffle=True, random_state = 1234\n",
    ")"
   ]
  },
  {
   "cell_type": "code",
   "execution_count": 66,
   "metadata": {},
   "outputs": [
    {
     "data": {
      "text/plain": [
       "{'X_train size': 20000,\n",
       " 'X_test size': 2500,\n",
       " 'X_val size': 2500,\n",
       " 'y_train size': 20000,\n",
       " 'y_test size': 2500,\n",
       " 'y_val size': 2500}"
      ]
     },
     "execution_count": 66,
     "metadata": {},
     "output_type": "execute_result"
    }
   ],
   "source": [
    "data_inf_dict = {\n",
    "    'X_train size': len(X_train),\n",
    "    'X_test size': len(X_test),\n",
    "   'X_val size': len(X_val),\n",
    "    'y_train size': len(y_train),\n",
    "    'y_test size': len(y_test),\n",
    "   'y_val size': len(y_val),\n",
    "}\n",
    "\n",
    "data_inf_dict"
   ]
  },
  {
   "cell_type": "code",
   "execution_count": 67,
   "metadata": {},
   "outputs": [],
   "source": [
    "def count_ratio(y, name):\n",
    "    class_0 = []\n",
    "    class_1 = []\n",
    "    for element in y:\n",
    "        if element[0] == 0:\n",
    "            class_0.append(1)\n",
    "        if element[0] == 1:\n",
    "            class_1.append(1)        \n",
    "            \n",
    "    ratio = str(\n",
    "        round(len(class_0)/(len(class_1)+len(class_0))*100,2)\n",
    "    ) + '/' + str(\n",
    "        100 - round(len(class_0)/(len(class_1)+len(class_0))*100,2)\n",
    "    )\n",
    "    \n",
    "    print(f\"{name} balance ratio: {ratio}\")"
   ]
  },
  {
   "cell_type": "code",
   "execution_count": 68,
   "metadata": {},
   "outputs": [
    {
     "name": "stdout",
     "output_type": "stream",
     "text": [
      "y_train balance ratio: 49.9/50.1\n",
      "y_test balance ratio: 49.88/50.12\n",
      "y_val balance ratio: 50.96/49.04\n"
     ]
    }
   ],
   "source": [
    "count_ratio(y_train, 'y_train')\n",
    "count_ratio(y_test, 'y_test')\n",
    "count_ratio(y_val, 'y_val')"
   ]
  },
  {
   "cell_type": "markdown",
   "metadata": {},
   "source": [
    "Classes in datasets are almost perfectly balanced after shuffle"
   ]
  },
  {
   "cell_type": "markdown",
   "metadata": {},
   "source": [
    "### Convolutional Neural Network"
   ]
  },
  {
   "cell_type": "markdown",
   "metadata": {},
   "source": [
    "#### Convolution layer\n",
    "Used to extract (filter) certain features from group of pixels"
   ]
  },
  {
   "cell_type": "markdown",
   "metadata": {},
   "source": [
    "#### Filters\n",
    "A set of weights - filter - to extract local features in convolutional layer\n",
    "\n",
    "The goal of using filters is to modify or enhance image properties and/or to extract valuable information from the pictures such as edges, corners, and blobs.\n",
    "\n",
    "Goals:\n",
    "- Extract out important information.\n",
    "- Remove noise or unwanted elements.\n",
    "- Enhance the image.\n",
    "- Give a certain look"
   ]
  },
  {
   "cell_type": "markdown",
   "metadata": {},
   "source": [
    "#### Non-linearity layer\n",
    "Often ReLU. Allows to deal with non-linearity data. ReLU change every negative value to 0."
   ]
  },
  {
   "cell_type": "markdown",
   "metadata": {},
   "source": [
    "#### Pooling layer\n",
    "Using to reduce dimensionality of input layer. "
   ]
  },
  {
   "cell_type": "markdown",
   "metadata": {},
   "source": [
    "#### 3 steps of feature learning:\n",
    "\n",
    "1. Learn features in input image through convolution\n",
    "2. Introduce non-linearity through activation function (real-world data is non-linear!)\n",
    "3. Reduce dimensionality and preserve spatial invariance with pooling"
   ]
  },
  {
   "cell_type": "markdown",
   "metadata": {},
   "source": [
    "#### Classification:\n",
    "After these 3 steps the next part of CNN is classification: \n",
    "- CONV and POOL layers output high-level features of input\n",
    "- Fully connected layer uses these features for classyfing input image\n",
    "- Express output as probability of image belonging to a particular class\n",
    "\n",
    "output features -> Fully Conected Layer (each neuron linked with each neuron, another name: Dense Layer) which output probability of image belongs to particulr class (softmax/sigmoid function)"
   ]
  },
  {
   "cell_type": "markdown",
   "metadata": {},
   "source": [
    "<b>Useful source:</b> https://ai.stanford.edu/~syyeung/cvweb/tutorial1.html, https://medium.com/towards-artificial-intelligence/image-filtering-dfe29581f859, https://www.youtube.com/watch?v=iaSUYvmCekI"
   ]
  },
  {
   "cell_type": "code",
   "execution_count": 69,
   "metadata": {},
   "outputs": [],
   "source": [
    "if gray_scale == True:\n",
    "    X_train = np.expand_dims(X_train, -1)\n",
    "    X_val = np.expand_dims(X_val, -1)\n",
    "    X_test = np.expand_dims(X_test, -1)\n",
    "else:\n",
    "    pass"
   ]
  },
  {
   "cell_type": "markdown",
   "metadata": {},
   "source": [
    "##### Batch:\n",
    "We can’t pass the entire dataset into the neural net at once. So, it's a need to divide dataset into parts, and batch size is a size of these parts.\n",
    "\n",
    "##### Epochs:\n",
    "One epoch means one pass of dataset forward and backward (computing and then weights adjusting).\n",
    "\n",
    "##### Iterations:\n",
    "Iterations is the number of batches needed to complete one epoch. 1000 training examples could be divided into baches of 100, then we need 10 iterations to end one epoch."
   ]
  },
  {
   "cell_type": "markdown",
   "metadata": {},
   "source": [
    "<b>Useful source:</b> https://towardsdatascience.com/epoch-vs-iterations-vs-batch-size-4dfb9c7ce9c9"
   ]
  },
  {
   "cell_type": "code",
   "execution_count": 70,
   "metadata": {},
   "outputs": [],
   "source": [
    "input_shape = (height, width, channels)\n",
    "batch_size = 32\n",
    "epochs = 10\n",
    "classes = 2"
   ]
  },
  {
   "cell_type": "markdown",
   "metadata": {},
   "source": [
    "##### Dropout:\n",
    "\n",
    "Dropout is ignoring ramdomly, with probability equals to 1-p, nodes in both hidden and not hidden layers. Dropout helps us prevent overfitting. Dropout is an approach to regularization in neural networks which helps reducing interdependent learning amongst the neurons.\n",
    "\n",
    "##### Batch Normalization:\n",
    "\n",
    "Batch normalization is achieved through a normalization step that fixes the means and variances of each layer's inputs. Reasons why we using: it speads up training (because we can take larger learning rate, our cost lofunction looks more simetrics, which means we get the minimum faster) , decreases importance of initial weights, regularizes the model (a little bit).\n",
    "\n",
    "<b>Useful source:</b> https://medium.com/@amarbudhiraja/https-medium-com-amarbudhiraja-learning-less-to-learn-better-dropout-in-deep-machine-learning-74334da4bfc5 (Dropout), https://www.youtube.com/watch?v=DtEq44FTPM4 (Batch Normalization)"
   ]
  },
  {
   "cell_type": "code",
   "execution_count": 71,
   "metadata": {},
   "outputs": [],
   "source": [
    "# cnn model initialization\n",
    "model = Sequential([\n",
    "    k.layers.Conv2D(\n",
    "        filters=32, \n",
    "        kernel_size=(3,3), \n",
    "        padding='same', \n",
    "        activation='relu', \n",
    "        input_shape=input_shape,\n",
    "    ),\n",
    "    k.layers.MaxPooling2D(\n",
    "        pool_size=(2,2)\n",
    "    ),\n",
    "    k.layers.Dropout(0.5),\n",
    "    k.layers.BatchNormalization(),\n",
    "    k.layers.Conv2D(\n",
    "        filters=64, \n",
    "        kernel_size=(3,3), \n",
    "        padding='same', \n",
    "        activation='relu'\n",
    "    ),\n",
    "    k.layers.MaxPooling2D(\n",
    "        pool_size=(2,2)\n",
    "    ), \n",
    "    k.layers.Dropout(0.5),\n",
    "    k.layers.BatchNormalization(),\n",
    "    # flatten converts our 3D feature maps to 1D feature vectors\n",
    "    k.layers.Flatten(),\n",
    "    k.layers.Dense(\n",
    "        64, \n",
    "        activation='relu'\n",
    "    ),\n",
    "    k.layers.Dense(\n",
    "        classes,\n",
    "        activation='sigmoid'\n",
    "    )\n",
    "])"
   ]
  },
  {
   "cell_type": "code",
   "execution_count": 72,
   "metadata": {},
   "outputs": [],
   "source": [
    "# build model\n",
    "opt = k.optimizers.SGD(lr = 15e-2)\n",
    "model.compile( \n",
    "    loss = \"binary_crossentropy\", \n",
    "    optimizer = opt, \n",
    "    metrics=['accuracy']\n",
    ")"
   ]
  },
  {
   "cell_type": "code",
   "execution_count": 73,
   "metadata": {},
   "outputs": [
    {
     "name": "stdout",
     "output_type": "stream",
     "text": [
      "Model: \"sequential_2\"\n",
      "_________________________________________________________________\n",
      "Layer (type)                 Output Shape              Param #   \n",
      "=================================================================\n",
      "conv2d_4 (Conv2D)            (None, 68, 68, 32)        896       \n",
      "_________________________________________________________________\n",
      "max_pooling2d_4 (MaxPooling2 (None, 34, 34, 32)        0         \n",
      "_________________________________________________________________\n",
      "dropout_4 (Dropout)          (None, 34, 34, 32)        0         \n",
      "_________________________________________________________________\n",
      "batch_normalization_4 (Batch (None, 34, 34, 32)        128       \n",
      "_________________________________________________________________\n",
      "conv2d_5 (Conv2D)            (None, 34, 34, 64)        18496     \n",
      "_________________________________________________________________\n",
      "max_pooling2d_5 (MaxPooling2 (None, 17, 17, 64)        0         \n",
      "_________________________________________________________________\n",
      "dropout_5 (Dropout)          (None, 17, 17, 64)        0         \n",
      "_________________________________________________________________\n",
      "batch_normalization_5 (Batch (None, 17, 17, 64)        256       \n",
      "_________________________________________________________________\n",
      "flatten_2 (Flatten)          (None, 18496)             0         \n",
      "_________________________________________________________________\n",
      "dense_4 (Dense)              (None, 64)                1183808   \n",
      "_________________________________________________________________\n",
      "dense_5 (Dense)              (None, 2)                 130       \n",
      "=================================================================\n",
      "Total params: 1,203,714\n",
      "Trainable params: 1,203,522\n",
      "Non-trainable params: 192\n",
      "_________________________________________________________________\n"
     ]
    }
   ],
   "source": [
    "model.summary()"
   ]
  },
  {
   "cell_type": "code",
   "execution_count": 74,
   "metadata": {},
   "outputs": [],
   "source": [
    "# early stopping\n",
    "callback = tf.keras.callbacks.EarlyStopping(monitor='accuracy', patience=2)"
   ]
  },
  {
   "cell_type": "code",
   "execution_count": 75,
   "metadata": {},
   "outputs": [
    {
     "name": "stdout",
     "output_type": "stream",
     "text": [
      "Epoch 1/50\n",
      "625/625 [==============================] - 71s 114ms/step - loss: 0.6934 - accuracy: 0.5843 - val_loss: 0.7127 - val_accuracy: 0.5420\n",
      "Epoch 2/50\n",
      "625/625 [==============================] - 68s 109ms/step - loss: 0.6268 - accuracy: 0.6527 - val_loss: 0.6085 - val_accuracy: 0.6752\n",
      "Epoch 3/50\n",
      "625/625 [==============================] - 69s 111ms/step - loss: 0.5923 - accuracy: 0.6839 - val_loss: 0.5852 - val_accuracy: 0.7004\n",
      "Epoch 4/50\n",
      "625/625 [==============================] - 68s 109ms/step - loss: 0.5768 - accuracy: 0.6934 - val_loss: 0.6451 - val_accuracy: 0.6544\n",
      "Epoch 5/50\n",
      "625/625 [==============================] - 69s 110ms/step - loss: 0.5663 - accuracy: 0.7002 - val_loss: 0.5861 - val_accuracy: 0.6828\n",
      "Epoch 6/50\n",
      "625/625 [==============================] - 67s 107ms/step - loss: 0.5572 - accuracy: 0.7096 - val_loss: 0.6061 - val_accuracy: 0.6924\n",
      "Epoch 7/50\n",
      "625/625 [==============================] - 67s 108ms/step - loss: 0.5495 - accuracy: 0.7170 - val_loss: 0.5781 - val_accuracy: 0.6916\n",
      "Epoch 8/50\n",
      "625/625 [==============================] - 73s 117ms/step - loss: 0.5412 - accuracy: 0.7215 - val_loss: 0.5923 - val_accuracy: 0.6916\n",
      "Epoch 9/50\n",
      "625/625 [==============================] - 65s 104ms/step - loss: 0.5341 - accuracy: 0.7283 - val_loss: 0.5648 - val_accuracy: 0.7080\n",
      "Epoch 10/50\n",
      "625/625 [==============================] - 63s 101ms/step - loss: 0.5270 - accuracy: 0.7301 - val_loss: 0.6618 - val_accuracy: 0.6528\n",
      "Epoch 11/50\n",
      "625/625 [==============================] - 63s 100ms/step - loss: 0.5215 - accuracy: 0.7363 - val_loss: 0.5733 - val_accuracy: 0.7116\n",
      "Epoch 12/50\n",
      "625/625 [==============================] - 63s 101ms/step - loss: 0.5140 - accuracy: 0.7429 - val_loss: 0.6529 - val_accuracy: 0.6632\n",
      "Epoch 13/50\n",
      "625/625 [==============================] - 63s 101ms/step - loss: 0.5064 - accuracy: 0.7477 - val_loss: 0.5540 - val_accuracy: 0.7264\n",
      "Epoch 14/50\n",
      "625/625 [==============================] - 63s 102ms/step - loss: 0.5026 - accuracy: 0.7490 - val_loss: 0.5572 - val_accuracy: 0.7176\n",
      "Epoch 15/50\n",
      "625/625 [==============================] - 69s 110ms/step - loss: 0.4983 - accuracy: 0.7532 - val_loss: 0.5526 - val_accuracy: 0.7308\n",
      "Epoch 16/50\n",
      "625/625 [==============================] - 66s 105ms/step - loss: 0.4941 - accuracy: 0.7559 - val_loss: 0.7507 - val_accuracy: 0.6224\n",
      "Epoch 17/50\n",
      "625/625 [==============================] - 67s 107ms/step - loss: 0.4828 - accuracy: 0.7652 - val_loss: 0.5676 - val_accuracy: 0.7176\n",
      "Epoch 18/50\n",
      "625/625 [==============================] - 66s 106ms/step - loss: 0.4801 - accuracy: 0.7656 - val_loss: 0.5862 - val_accuracy: 0.7072\n",
      "Epoch 19/50\n",
      "625/625 [==============================] - 66s 106ms/step - loss: 0.4762 - accuracy: 0.7681 - val_loss: 0.5474 - val_accuracy: 0.7308\n",
      "Epoch 20/50\n",
      "625/625 [==============================] - 66s 106ms/step - loss: 0.4673 - accuracy: 0.7763 - val_loss: 0.5339 - val_accuracy: 0.7340\n",
      "Epoch 21/50\n",
      "625/625 [==============================] - 77s 124ms/step - loss: 0.4624 - accuracy: 0.7785 - val_loss: 0.5663 - val_accuracy: 0.7296\n",
      "Epoch 22/50\n",
      "625/625 [==============================] - 76s 122ms/step - loss: 0.4564 - accuracy: 0.7795 - val_loss: 0.5328 - val_accuracy: 0.7456\n",
      "Epoch 23/50\n",
      "625/625 [==============================] - 70s 112ms/step - loss: 0.4563 - accuracy: 0.7843 - val_loss: 0.5344 - val_accuracy: 0.7440\n",
      "Epoch 24/50\n",
      "625/625 [==============================] - 67s 107ms/step - loss: 0.4437 - accuracy: 0.7885 - val_loss: 0.5348 - val_accuracy: 0.7448\n",
      "Epoch 25/50\n",
      "625/625 [==============================] - 65s 105ms/step - loss: 0.4417 - accuracy: 0.7877 - val_loss: 0.5580 - val_accuracy: 0.7296\n",
      "Epoch 26/50\n",
      "625/625 [==============================] - 64s 102ms/step - loss: 0.4373 - accuracy: 0.7934 - val_loss: 0.5659 - val_accuracy: 0.7380\n",
      "Epoch 27/50\n",
      "625/625 [==============================] - 64s 102ms/step - loss: 0.4276 - accuracy: 0.7980 - val_loss: 0.5445 - val_accuracy: 0.7428\n",
      "Epoch 28/50\n",
      "625/625 [==============================] - 64s 102ms/step - loss: 0.4239 - accuracy: 0.8037 - val_loss: 0.5241 - val_accuracy: 0.7500\n",
      "Epoch 29/50\n",
      "625/625 [==============================] - 65s 104ms/step - loss: 0.4244 - accuracy: 0.8005 - val_loss: 0.5302 - val_accuracy: 0.7496\n",
      "Epoch 30/50\n",
      "625/625 [==============================] - 64s 103ms/step - loss: 0.4132 - accuracy: 0.8084 - val_loss: 0.5386 - val_accuracy: 0.7468\n",
      "Epoch 31/50\n",
      "625/625 [==============================] - 64s 102ms/step - loss: 0.4063 - accuracy: 0.8118 - val_loss: 0.5310 - val_accuracy: 0.7472\n",
      "Epoch 32/50\n",
      "625/625 [==============================] - 65s 103ms/step - loss: 0.4036 - accuracy: 0.8148 - val_loss: 0.5669 - val_accuracy: 0.7336\n",
      "Epoch 33/50\n",
      "625/625 [==============================] - 66s 105ms/step - loss: 0.3990 - accuracy: 0.8170 - val_loss: 0.5459 - val_accuracy: 0.7404\n",
      "Epoch 34/50\n",
      "625/625 [==============================] - 66s 105ms/step - loss: 0.3866 - accuracy: 0.8231 - val_loss: 0.5830 - val_accuracy: 0.7284\n",
      "Epoch 35/50\n",
      "625/625 [==============================] - 72s 115ms/step - loss: 0.3867 - accuracy: 0.8264 - val_loss: 0.5232 - val_accuracy: 0.7604\n",
      "Epoch 36/50\n",
      "625/625 [==============================] - 68s 109ms/step - loss: 0.3890 - accuracy: 0.8235 - val_loss: 0.5339 - val_accuracy: 0.7476\n",
      "Epoch 37/50\n",
      "625/625 [==============================] - 66s 105ms/step - loss: 0.3765 - accuracy: 0.8298 - val_loss: 0.5720 - val_accuracy: 0.7396\n",
      "Epoch 38/50\n",
      "625/625 [==============================] - 66s 105ms/step - loss: 0.3713 - accuracy: 0.8318 - val_loss: 0.5408 - val_accuracy: 0.7580\n",
      "Epoch 39/50\n",
      "625/625 [==============================] - 66s 105ms/step - loss: 0.3632 - accuracy: 0.8355 - val_loss: 0.5355 - val_accuracy: 0.7556\n",
      "Epoch 40/50\n",
      "625/625 [==============================] - 66s 105ms/step - loss: 0.3593 - accuracy: 0.8400 - val_loss: 0.5651 - val_accuracy: 0.7492\n",
      "Epoch 41/50\n",
      "625/625 [==============================] - 65s 104ms/step - loss: 0.3562 - accuracy: 0.8427 - val_loss: 0.5342 - val_accuracy: 0.7636\n",
      "Epoch 42/50\n",
      "625/625 [==============================] - 68s 109ms/step - loss: 0.3493 - accuracy: 0.8429 - val_loss: 0.5443 - val_accuracy: 0.7664\n",
      "Epoch 43/50\n",
      "625/625 [==============================] - 66s 106ms/step - loss: 0.3467 - accuracy: 0.8443 - val_loss: 0.5537 - val_accuracy: 0.7620\n",
      "Epoch 44/50\n",
      "625/625 [==============================] - 66s 106ms/step - loss: 0.3437 - accuracy: 0.8419 - val_loss: 0.6405 - val_accuracy: 0.7300\n",
      "Epoch 45/50\n",
      "625/625 [==============================] - 68s 109ms/step - loss: 0.3344 - accuracy: 0.8500 - val_loss: 0.6451 - val_accuracy: 0.7232\n",
      "Epoch 46/50\n",
      "625/625 [==============================] - 66s 106ms/step - loss: 0.3281 - accuracy: 0.8552 - val_loss: 0.5551 - val_accuracy: 0.7576\n",
      "Epoch 47/50\n",
      "625/625 [==============================] - 66s 106ms/step - loss: 0.3198 - accuracy: 0.8599 - val_loss: 0.5596 - val_accuracy: 0.7620\n",
      "Epoch 48/50\n",
      "625/625 [==============================] - 66s 106ms/step - loss: 0.3192 - accuracy: 0.8594 - val_loss: 0.5404 - val_accuracy: 0.7616\n",
      "Epoch 49/50\n",
      "625/625 [==============================] - 66s 106ms/step - loss: 0.3115 - accuracy: 0.8626 - val_loss: 0.5983 - val_accuracy: 0.7360\n",
      "Epoch 50/50\n",
      "625/625 [==============================] - 66s 105ms/step - loss: 0.3050 - accuracy: 0.8669 - val_loss: 0.5611 - val_accuracy: 0.7548\n"
     ]
    }
   ],
   "source": [
    "# train the model\n",
    "history = model.fit(\n",
    "    X_train, \n",
    "    y_train, \n",
    "    validation_data=(X_val, y_val), \n",
    "    epochs=epochs,\n",
    "    batch_size=batch_size,\n",
    "    verbose=1,\n",
    "    callbacks=[callback]\n",
    ")"
   ]
  },
  {
   "cell_type": "code",
   "execution_count": 76,
   "metadata": {},
   "outputs": [],
   "source": [
    "score = model.evaluate(X_test, y_test, verbose=0)"
   ]
  },
  {
   "cell_type": "code",
   "execution_count": 77,
   "metadata": {},
   "outputs": [
    {
     "name": "stdout",
     "output_type": "stream",
     "text": [
      "Model accuracy: 75.92%\n"
     ]
    }
   ],
   "source": [
    "print(f\"Model accuracy: {round(score[1]*100,2)}%\")"
   ]
  },
  {
   "cell_type": "code",
   "execution_count": 78,
   "metadata": {},
   "outputs": [],
   "source": [
    "def plot_history(model):\n",
    "    plt.plot(model.history['accuracy'])\n",
    "    plt.plot(model.history['val_accuracy'])\n",
    "    plt.legend(['accuracy', 'val_accuracy'], loc='upper left')\n",
    "    plt.show()"
   ]
  },
  {
   "cell_type": "code",
   "execution_count": 79,
   "metadata": {},
   "outputs": [
    {
     "data": {
      "image/png": "[encoded data removed]",
      "text/plain": [
       "<Figure size 432x288 with 1 Axes>"
      ]
     },
     "metadata": {
      "needs_background": "light"
     },
     "output_type": "display_data"
    }
   ],
   "source": [
    "plot_history(history)"
   ]
  },
  {
   "cell_type": "markdown",
   "metadata": {},
   "source": [
    "#### Predicition on my private dog photo"
   ]
  },
  {
   "cell_type": "code",
   "execution_count": 80,
   "metadata": {},
   "outputs": [
    {
     "data": {
      "application/vnd.jupyter.widget-view+json": {
       "model_id": "a4042a0e1cc1469bacaeedc4de4719ea",
       "version_major": 2,
       "version_minor": 0
      },
      "text/plain": [
       "HBox(children=(FloatProgress(value=0.0, max=1.0), HTML(value='')))"
      ]
     },
     "metadata": {},
     "output_type": "display_data"
    },
    {
     "name": "stdout",
     "output_type": "stream",
     "text": [
      "\n"
     ]
    }
   ],
   "source": [
    "X_predict, y_predict = load_photo_and_preprocess(\n",
    "    '/Users/alexdrozdz/JupyterNotebook/Cats_dogs/my_dog',\n",
    "    'cat',\n",
    "    'dog',\n",
    "    height,\n",
    "    width,\n",
    "    gray_scale=False\n",
    ")"
   ]
  },
  {
   "cell_type": "code",
   "execution_count": 81,
   "metadata": {},
   "outputs": [
    {
     "data": {
      "image/png": "[encoded data removed]",
      "text/plain": [
       "<Figure size 432x288 with 1 Axes>"
      ]
     },
     "metadata": {
      "needs_background": "light"
     },
     "output_type": "display_data"
    },
    {
     "name": "stdout",
     "output_type": "stream",
     "text": [
      "Label: dog\n"
     ]
    }
   ],
   "source": [
    "plot_image(0, X_predict, y_predict, 'cat', 'dog', gray_scale=False)"
   ]
  },
  {
   "cell_type": "code",
   "execution_count": 82,
   "metadata": {},
   "outputs": [],
   "source": [
    "if gray_scale == True:\n",
    "    X_predict = np.expand_dims(X_predict, -1)\n",
    "else:\n",
    "    pass"
   ]
  },
  {
   "cell_type": "code",
   "execution_count": 83,
   "metadata": {},
   "outputs": [],
   "source": [
    "prediction = model.predict(X_predict)"
   ]
  },
  {
   "cell_type": "code",
   "execution_count": 85,
   "metadata": {},
   "outputs": [
    {
     "name": "stdout",
     "output_type": "stream",
     "text": [
      "Hey, that's right! Of course it's a dog! \n",
      "Dog probability: 99.72%, Cat probability: 0.28%. \n",
      "Btw his name is Billy :)\n"
     ]
    }
   ],
   "source": [
    "if prediction[0][1] > 0.5:\n",
    "    print(\n",
    "        f\"Hey, that's right! Of course it's a dog! \\nDog probability: {round(prediction[0][1]*100,2)}%, Cat probability: {round(prediction[0][0]*100,2)}%. \\nBtw his name is Billy :)\"\n",
    "    )\n",
    "elif prediction[0][1] < 0.5:\n",
    "    print(\n",
    "        f\"Egh prediction is bad! For a model it's a cat \\nDog probability: {round(prediction[0][1]*100,2)}%, Cat probability: {round(prediction[0][0]*100,2)}%\"\n",
    "    )"
   ]
  },
  {
   "cell_type": "code",
   "execution_count": null,
   "metadata": {},
   "outputs": [],
   "source": []
  },
  {
   "cell_type": "code",
   "execution_count": null,
   "metadata": {},
   "outputs": [],
   "source": []
  },
  {
   "cell_type": "code",
   "execution_count": null,
   "metadata": {},
   "outputs": [],
   "source": []
  }
 ],
 "metadata": {
  "kernelspec": {
   "display_name": "Python 3",
   "language": "python",
   "name": "python3"
  },
  "language_info": {
   "codemirror_mode": {
    "name": "ipython",
    "version": 3
   },
   "file_extension": ".py",
   "mimetype": "text/x-python",
   "name": "python",
   "nbconvert_exporter": "python",
   "pygments_lexer": "ipython3",
   "version": "3.8.5"
  }
 },
 "nbformat": 4,
 "nbformat_minor": 4
}
