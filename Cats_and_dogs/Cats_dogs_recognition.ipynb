{
 "cells": [
  {
   "cell_type": "code",
   "execution_count": 127,
   "metadata": {},
   "outputs": [],
   "source": [
    "%matplotlib inline\n",
    "\n",
    "import matplotlib.pyplot as plt\n",
    "import os\n",
    "import pandas as pd\n",
    "import numpy as np\n",
    "import random\n",
    "import cv2\n",
    "from sklearn import metrics\n",
    "from tqdm.notebook import trange, tqdm\n",
    "from sklearn import preprocessing\n",
    "import sys\n",
    "import tensorflow as tf\n",
    "from tensorflow import keras as k\n",
    "from tensorflow.keras.models import Sequential\n",
    "from sklearn.model_selection import train_test_split\n",
    "import glob\n",
    "\n",
    "import warnings\n",
    "warnings.filterwarnings('ignore')"
   ]
  },
  {
   "cell_type": "markdown",
   "metadata": {},
   "source": [
    "<b>Useful source:</b> https://towardsdatascience.com/wtf-is-image-classification-8e78a8235acb (general basic knowledge how to start dealing with computer vision), https://towardsdatascience.com/image-pre-processing-c1aec0be3edf (how to pre-process data), https://ujjwalkarn.me/2016/08/11/intuitive-explanation-convnets/ (how cnn works), https://ujjwalkarn.me/2016/08/09/quick-intro-neural-networks/ (quick introduction to nn in general), https://towardsdatascience.com/image-processing-techniques-for-computer-vision-11f92f511e21 (images preprocessing and data augmentation)"
   ]
  },
  {
   "cell_type": "markdown",
   "metadata": {},
   "source": [
    "### Operations used:"
   ]
  },
  {
   "cell_type": "markdown",
   "metadata": {},
   "source": [
    "#### 1) Standarization"
   ]
  },
  {
   "cell_type": "markdown",
   "metadata": {},
   "source": [
    "Resizing every image to exactly same shape"
   ]
  },
  {
   "cell_type": "markdown",
   "metadata": {},
   "source": [
    "#### 2) Denoise \n",
    "Smoothing images to remove noise we do not want them to appear on our photos. Noise is somrthing unwanted wich do not bring any information, moreover it could disrupt our model in recognizing our target. Our action helps enhance image structures."
   ]
  },
  {
   "cell_type": "markdown",
   "metadata": {},
   "source": [
    "#### 3) Grayscale\n",
    "\n",
    "Due to only one color channel in grayscale photos processing is at least 3 times faster. To gender recognition photos color in my opinion is not useful. When we will be predicting ethnicity in the next project's stage, color of photos could be useful. I will find out it during work on the second stage of project, because it's my first step to understand computer vision, so my knowledge about it is a bit basic now."
   ]
  },
  {
   "cell_type": "markdown",
   "metadata": {},
   "source": [
    "In computer vision is something called thumb rule to recognize color importance in a project. It refers to look at the picture with human eye and try to recognize object we are looking for in a grayscaled photo. If we can, color it's not important. I think that we are able to approximate human age without colors attendance at the picture, so in my opinion this rule is fullfiled in this case."
   ]
  },
  {
   "cell_type": "markdown",
   "metadata": {},
   "source": [
    "<b>Useful source:</b> https://manningbooks.medium.com/the-computer-vision-pipeline-part-3-image-preprocessing-c662094835ec"
   ]
  },
  {
   "cell_type": "markdown",
   "metadata": {},
   "source": [
    "#### 4) Normalization\n",
    "Firstly normalization of photos' pixels helps us avoid situation where big pixels dominate smaller ones because of huge range (here 0 to 255). Secondly many algorithms behave well on normalized data rather than on not normalized."
   ]
  },
  {
   "cell_type": "markdown",
   "metadata": {},
   "source": [
    "<b>Useful source:</b> https://medium.com/@kharikri/image-processing-tips-for-computer-vision-and-deep-learning-tasks-e5247ec94f3"
   ]
  },
  {
   "cell_type": "markdown",
   "metadata": {},
   "source": [
    "### Loading images and data manipulations"
   ]
  },
  {
   "cell_type": "code",
   "execution_count": 128,
   "metadata": {},
   "outputs": [],
   "source": [
    "# resizing variables\n",
    "height, width = 100, 100"
   ]
  },
  {
   "cell_type": "code",
   "execution_count": 129,
   "metadata": {},
   "outputs": [],
   "source": [
    "def load_photo_and_preprocess(\n",
    "    path_to_images, \n",
    "    class_1, \n",
    "    class_2,\n",
    "    height,\n",
    "    width,\n",
    "):\n",
    "    X = []\n",
    "    y = []\n",
    "    os.chdir(path_to_images)\n",
    "    for img_name in tqdm(os.listdir(path_to_images)):\n",
    "        img = cv2.imread(img_name)   \n",
    "        # Standarization\n",
    "        img = cv2.resize(img, (height, width), interpolation = cv2.INTER_AREA)\n",
    "        # Denoise\n",
    "        img = cv2.GaussianBlur(img, (5, 5), 0)\n",
    "        # Grayscale\n",
    "        img = cv2.cvtColor(img, cv2.COLOR_BGR2GRAY)\n",
    "        # Normalization\n",
    "        img = img/255\n",
    "        X.append(img)\n",
    "        # Getting labels\n",
    "        if img_name.split('.')[0] == class_1:\n",
    "            y.append(0) \n",
    "        elif img_name.split('.')[0] == class_2:\n",
    "            y.append(1) \n",
    "\n",
    "    # transforming label to appropriate format\n",
    "    y = k.utils.to_categorical(y, num_classes=2)\n",
    "    \n",
    "    # list to array transform\n",
    "    X = np.array(X)\n",
    "    \n",
    "    return X, y"
   ]
  },
  {
   "cell_type": "code",
   "execution_count": 130,
   "metadata": {},
   "outputs": [
    {
     "data": {
      "application/vnd.jupyter.widget-view+json": {
       "model_id": "a7ed7bb42cb945a5ac96db7ae8752b52",
       "version_major": 2,
       "version_minor": 0
      },
      "text/plain": [
       "HBox(children=(FloatProgress(value=0.0, max=25000.0), HTML(value='')))"
      ]
     },
     "metadata": {},
     "output_type": "display_data"
    },
    {
     "name": "stdout",
     "output_type": "stream",
     "text": [
      "\n"
     ]
    }
   ],
   "source": [
    "X, y = load_photo_and_preprocess(\n",
    "    '/Users/alexdrozdz/JupyterNotebook/Cats_dogs/Data',\n",
    "    'cat',\n",
    "    'dog',\n",
    "    height,\n",
    "    width,\n",
    ")"
   ]
  },
  {
   "cell_type": "code",
   "execution_count": 131,
   "metadata": {},
   "outputs": [
    {
     "name": "stdout",
     "output_type": "stream",
     "text": [
      "Image shape:  (100, 100)\n"
     ]
    }
   ],
   "source": [
    "print(\"Image shape: \", X[0].shape)"
   ]
  },
  {
   "cell_type": "code",
   "execution_count": 132,
   "metadata": {},
   "outputs": [],
   "source": [
    "def plot_image(index, X, y, class_1, class_2):\n",
    "    # plot one random image\n",
    "    plt.imshow(X[index], cmap='gray')\n",
    "    plt.show()\n",
    "    if y[index][0] == 1:\n",
    "        label = class_1\n",
    "    elif y[index][0] == 0:\n",
    "        label = class_2\n",
    "    print(f\"Label: {label}\")"
   ]
  },
  {
   "cell_type": "code",
   "execution_count": 133,
   "metadata": {},
   "outputs": [
    {
     "data": {
      "image/png": "[encoded data removed]",
      "text/plain": [
       "<Figure size 432x288 with 1 Axes>"
      ]
     },
     "metadata": {
      "needs_background": "light"
     },
     "output_type": "display_data"
    },
    {
     "name": "stdout",
     "output_type": "stream",
     "text": [
      "Label: dog\n"
     ]
    }
   ],
   "source": [
    "plot_image(np.random.randint(len(X)), X, y, 'cat', 'dog')"
   ]
  },
  {
   "cell_type": "markdown",
   "metadata": {},
   "source": [
    "#### Train test split"
   ]
  },
  {
   "cell_type": "code",
   "execution_count": 134,
   "metadata": {},
   "outputs": [
    {
     "name": "stdout",
     "output_type": "stream",
     "text": [
      "Dataset length: 25000\n"
     ]
    }
   ],
   "source": [
    "print(f\"Dataset length: {len(X)}\")"
   ]
  },
  {
   "cell_type": "code",
   "execution_count": 135,
   "metadata": {},
   "outputs": [],
   "source": [
    "X_train, X_test, y_train, y_test = train_test_split(\n",
    "    X, y, test_size=0.2, shuffle=True, random_state = 1234\n",
    ")\n",
    "\n",
    "X_val, X_test, y_val, y_test = train_test_split(\n",
    "    X_test, y_test, test_size=0.5, shuffle=True, random_state = 1234\n",
    ")"
   ]
  },
  {
   "cell_type": "code",
   "execution_count": 136,
   "metadata": {},
   "outputs": [
    {
     "data": {
      "text/plain": [
       "{'X_train size': 20000,\n",
       " 'X_test size': 2500,\n",
       " 'X_val size': 2500,\n",
       " 'y_train size': 20000,\n",
       " 'y_test size': 2500,\n",
       " 'y_val size': 2500}"
      ]
     },
     "execution_count": 136,
     "metadata": {},
     "output_type": "execute_result"
    }
   ],
   "source": [
    "data_inf_dict = {\n",
    "    'X_train size': len(X_train),\n",
    "    'X_test size': len(X_test),\n",
    "    'X_val size': len(X_val),\n",
    "    'y_train size': len(y_train),\n",
    "    'y_test size': len(y_test),\n",
    "    'y_val size': len(y_val),\n",
    "}\n",
    "\n",
    "data_inf_dict"
   ]
  },
  {
   "cell_type": "code",
   "execution_count": 137,
   "metadata": {},
   "outputs": [],
   "source": [
    "def count_ratio(y, name):\n",
    "    class_0 = []\n",
    "    class_1 = []\n",
    "    for element in y:\n",
    "        if element[0] == 0:\n",
    "            class_0.append(1)\n",
    "        if element[0] == 1:\n",
    "            class_1.append(1)        \n",
    "            \n",
    "    ratio = str(\n",
    "        round(len(class_0)/(len(class_1)+len(class_0))*100,2)\n",
    "    ) + '/' + str(\n",
    "        100 - round(len(class_0)/(len(class_1)+len(class_0))*100,2)\n",
    "    )\n",
    "    \n",
    "    print(f\"{name} balance ratio: {ratio}\")"
   ]
  },
  {
   "cell_type": "code",
   "execution_count": 138,
   "metadata": {},
   "outputs": [
    {
     "name": "stdout",
     "output_type": "stream",
     "text": [
      "y_train balance ratio: 49.9/50.1\n",
      "y_test balance ratio: 49.88/50.12\n",
      "y_val balance ratio: 50.96/49.04\n"
     ]
    }
   ],
   "source": [
    "count_ratio(y_train, 'y_train')\n",
    "count_ratio(y_test, 'y_test')\n",
    "count_ratio(y_val, 'y_val')"
   ]
  },
  {
   "cell_type": "markdown",
   "metadata": {},
   "source": [
    "Classes in datasets are almost perfectly balanced after shuffle"
   ]
  },
  {
   "cell_type": "markdown",
   "metadata": {},
   "source": [
    "### Convolutional Neural Network"
   ]
  },
  {
   "cell_type": "markdown",
   "metadata": {},
   "source": [
    "#### Convolution layer\n",
    "Used to extract (filter) certain features from group of pixels"
   ]
  },
  {
   "cell_type": "markdown",
   "metadata": {},
   "source": [
    "#### Filters\n",
    "A set of weights - filter - to extract local features in convolutional layer\n",
    "\n",
    "The goal of using filters is to modify or enhance image properties and/or to extract valuable information from the pictures such as edges, corners, and blobs.\n",
    "\n",
    "Goals:\n",
    "- Extract out important information.\n",
    "- Remove noise or unwanted elements.\n",
    "- Enhance the image.\n",
    "- Give a certain look"
   ]
  },
  {
   "cell_type": "markdown",
   "metadata": {},
   "source": [
    "#### Non-linearity layer\n",
    "Often ReLU. Allows to deal with non-linearity data. ReLU change every negative value to 0."
   ]
  },
  {
   "cell_type": "markdown",
   "metadata": {},
   "source": [
    "#### Pooling layer\n",
    "Using to reduce dimensionality of input layer. "
   ]
  },
  {
   "cell_type": "markdown",
   "metadata": {},
   "source": [
    "#### 3 steps of feature learning:\n",
    "\n",
    "1. Learn features in input image through convolution\n",
    "2. Introduce non-linearity through activation function (real-world data is non-linear!)\n",
    "3. Reduce dimensionality and preserve spatial invariance with pooling"
   ]
  },
  {
   "cell_type": "markdown",
   "metadata": {},
   "source": [
    "#### Classification:\n",
    "After these 3 steps the next part of CNN is classification: \n",
    "- CONV and POOL layers output high-level features of input\n",
    "- Fully connected layer uses these features for classyfing input image\n",
    "- Express output as probability of image belonging to a particular class\n",
    "\n",
    "output features -> Fully Conected Layer (each neuron linked with each neuron, another name: Dense Layer) which output probability of image belongs to particulr class (softmax/sigmoid function)"
   ]
  },
  {
   "cell_type": "markdown",
   "metadata": {},
   "source": [
    "<b>Useful source:</b> https://ai.stanford.edu/~syyeung/cvweb/tutorial1.html, https://medium.com/towards-artificial-intelligence/image-filtering-dfe29581f859, https://www.youtube.com/watch?v=iaSUYvmCekI"
   ]
  },
  {
   "cell_type": "code",
   "execution_count": 139,
   "metadata": {},
   "outputs": [],
   "source": [
    "X_train = np.expand_dims(X_train, -1)\n",
    "X_val = np.expand_dims(X_val, -1)\n",
    "X_test = np.expand_dims(X_test, -1)"
   ]
  },
  {
   "cell_type": "markdown",
   "metadata": {},
   "source": [
    "##### Batch:\n",
    "We can’t pass the entire dataset into the neural net at once. So, it's a need to divide dataset into parts, and batch size is a size of these parts.\n",
    "\n",
    "##### Epochs:\n",
    "One epoch means one pass of dataset forward and backward (computing and then weights adjusting).\n",
    "\n",
    "##### Iterations:\n",
    "Iterations is the number of batches needed to complete one epoch. 1000 training examples could be divided into baches of 100, then we need 10 iterations to end one epoch."
   ]
  },
  {
   "cell_type": "markdown",
   "metadata": {},
   "source": [
    "<b>Useful source:</b> https://towardsdatascience.com/epoch-vs-iterations-vs-batch-size-4dfb9c7ce9c9"
   ]
  },
  {
   "cell_type": "code",
   "execution_count": 140,
   "metadata": {},
   "outputs": [],
   "source": [
    "input_shape = (height, width, 1)\n",
    "batch_size = 32\n",
    "epochs = 10\n",
    "classes = 2"
   ]
  },
  {
   "cell_type": "code",
   "execution_count": 141,
   "metadata": {},
   "outputs": [],
   "source": [
    "# cnn model initialization\n",
    "model = Sequential([\n",
    "    k.layers.Conv2D(\n",
    "        filters=32, \n",
    "        kernel_size=(3,3), \n",
    "        padding='same', \n",
    "        activation='relu', \n",
    "        input_shape=input_shape,\n",
    "    ),\n",
    "    k.layers.MaxPooling2D(\n",
    "        pool_size=(2,2)\n",
    "    ),\n",
    "    k.layers.Dropout(0.5),\n",
    "    k.layers.BatchNormalization(),\n",
    "    k.layers.Conv2D(\n",
    "        filters=64, \n",
    "        kernel_size=(3,3), \n",
    "        padding='same', \n",
    "        activation='relu'\n",
    "    ),\n",
    "    k.layers.MaxPooling2D(\n",
    "        pool_size=(2,2)\n",
    "    ), \n",
    "    k.layers.Dropout(0.5),\n",
    "    k.layers.BatchNormalization(),\n",
    "    k.layers.Conv2D(\n",
    "        filters=64, \n",
    "        kernel_size=(3,3), \n",
    "        padding='same', \n",
    "        activation='relu'\n",
    "    ),\n",
    "    k.layers.MaxPooling2D(\n",
    "        pool_size=(2,2)\n",
    "    ), \n",
    "    k.layers.Dropout(0.5),\n",
    "    k.layers.BatchNormalization(),\n",
    "    # flatten converts our 3D feature maps to 1D feature vectors\n",
    "    k.layers.Flatten(),\n",
    "    k.layers.Dense(\n",
    "        128, \n",
    "        activation='relu'\n",
    "    ),\n",
    "    k.layers.Dense(\n",
    "        classes,\n",
    "        activation='sigmoid'\n",
    "    )\n",
    "])"
   ]
  },
  {
   "cell_type": "code",
   "execution_count": 142,
   "metadata": {},
   "outputs": [],
   "source": [
    "# build model\n",
    "opt = k.optimizers.Adam(lr = 5e-3)\n",
    "model.compile( \n",
    "    loss = \"binary_crossentropy\", \n",
    "    optimizer = opt, \n",
    "    metrics=['accuracy']\n",
    ")"
   ]
  },
  {
   "cell_type": "code",
   "execution_count": 143,
   "metadata": {},
   "outputs": [
    {
     "name": "stdout",
     "output_type": "stream",
     "text": [
      "Model: \"sequential_8\"\n",
      "_________________________________________________________________\n",
      "Layer (type)                 Output Shape              Param #   \n",
      "=================================================================\n",
      "conv2d_24 (Conv2D)           (None, 100, 100, 32)      320       \n",
      "_________________________________________________________________\n",
      "max_pooling2d_24 (MaxPooling (None, 50, 50, 32)        0         \n",
      "_________________________________________________________________\n",
      "dropout_24 (Dropout)         (None, 50, 50, 32)        0         \n",
      "_________________________________________________________________\n",
      "batch_normalization_24 (Batc (None, 50, 50, 32)        128       \n",
      "_________________________________________________________________\n",
      "conv2d_25 (Conv2D)           (None, 50, 50, 64)        18496     \n",
      "_________________________________________________________________\n",
      "max_pooling2d_25 (MaxPooling (None, 25, 25, 64)        0         \n",
      "_________________________________________________________________\n",
      "dropout_25 (Dropout)         (None, 25, 25, 64)        0         \n",
      "_________________________________________________________________\n",
      "batch_normalization_25 (Batc (None, 25, 25, 64)        256       \n",
      "_________________________________________________________________\n",
      "conv2d_26 (Conv2D)           (None, 25, 25, 64)        36928     \n",
      "_________________________________________________________________\n",
      "max_pooling2d_26 (MaxPooling (None, 12, 12, 64)        0         \n",
      "_________________________________________________________________\n",
      "dropout_26 (Dropout)         (None, 12, 12, 64)        0         \n",
      "_________________________________________________________________\n",
      "batch_normalization_26 (Batc (None, 12, 12, 64)        256       \n",
      "_________________________________________________________________\n",
      "flatten_8 (Flatten)          (None, 9216)              0         \n",
      "_________________________________________________________________\n",
      "dense_17 (Dense)             (None, 128)               1179776   \n",
      "_________________________________________________________________\n",
      "dense_18 (Dense)             (None, 2)                 258       \n",
      "=================================================================\n",
      "Total params: 1,236,418\n",
      "Trainable params: 1,236,098\n",
      "Non-trainable params: 320\n",
      "_________________________________________________________________\n"
     ]
    }
   ],
   "source": [
    "model.summary()"
   ]
  },
  {
   "cell_type": "code",
   "execution_count": 144,
   "metadata": {},
   "outputs": [],
   "source": [
    "# early stopping\n",
    "callback = tf.keras.callbacks.EarlyStopping(monitor='accuracy', patience=2)"
   ]
  },
  {
   "cell_type": "code",
   "execution_count": 145,
   "metadata": {},
   "outputs": [
    {
     "name": "stdout",
     "output_type": "stream",
     "text": [
      "Epoch 1/10\n",
      "625/625 [==============================] - 154s 247ms/step - loss: 0.6933 - accuracy: 0.5917 - val_loss: 0.9819 - val_accuracy: 0.4968\n",
      "Epoch 2/10\n",
      "625/625 [==============================] - 148s 237ms/step - loss: 0.6269 - accuracy: 0.6471 - val_loss: 0.6599 - val_accuracy: 0.5908\n",
      "Epoch 3/10\n",
      "625/625 [==============================] - 152s 244ms/step - loss: 0.6030 - accuracy: 0.6749 - val_loss: 0.6334 - val_accuracy: 0.6340\n",
      "Epoch 4/10\n",
      "625/625 [==============================] - 153s 244ms/step - loss: 0.5874 - accuracy: 0.6849 - val_loss: 0.7811 - val_accuracy: 0.5108\n",
      "Epoch 5/10\n",
      "625/625 [==============================] - 151s 241ms/step - loss: 0.5649 - accuracy: 0.7038 - val_loss: 0.7596 - val_accuracy: 0.6100\n",
      "Epoch 6/10\n",
      "625/625 [==============================] - 149s 239ms/step - loss: 0.5416 - accuracy: 0.7232 - val_loss: 0.5819 - val_accuracy: 0.6988\n",
      "Epoch 7/10\n",
      "625/625 [==============================] - 160s 256ms/step - loss: 0.5327 - accuracy: 0.7308 - val_loss: 0.6887 - val_accuracy: 0.6380\n",
      "Epoch 8/10\n",
      "625/625 [==============================] - 156s 250ms/step - loss: 0.5161 - accuracy: 0.7447 - val_loss: 0.5856 - val_accuracy: 0.6968\n",
      "Epoch 9/10\n",
      "625/625 [==============================] - 148s 237ms/step - loss: 0.5126 - accuracy: 0.7458 - val_loss: 0.9410 - val_accuracy: 0.5168\n",
      "Epoch 10/10\n",
      "625/625 [==============================] - 147s 236ms/step - loss: 0.5012 - accuracy: 0.7518 - val_loss: 0.6274 - val_accuracy: 0.7044\n"
     ]
    },
    {
     "data": {
      "text/plain": [
       "<tensorflow.python.keras.callbacks.History at 0x7fb8cb08b4f0>"
      ]
     },
     "execution_count": 145,
     "metadata": {},
     "output_type": "execute_result"
    }
   ],
   "source": [
    "# train the model\n",
    "model.fit(\n",
    "    X_train, \n",
    "    y_train, \n",
    "    validation_data=(X_val, y_val), \n",
    "    epochs=epochs,\n",
    "    batch_size=batch_size,\n",
    "    verbose=1,\n",
    "    callbacks=[callback]\n",
    ")"
   ]
  },
  {
   "cell_type": "code",
   "execution_count": 146,
   "metadata": {},
   "outputs": [],
   "source": [
    "score = model.evaluate(X_test, y_test, verbose=0)"
   ]
  },
  {
   "cell_type": "code",
   "execution_count": 147,
   "metadata": {},
   "outputs": [
    {
     "name": "stdout",
     "output_type": "stream",
     "text": [
      "Model accuracy: 70.4%\n"
     ]
    }
   ],
   "source": [
    "print(f\"Model accuracy: {round(score[1]*100,2)}%\")"
   ]
  },
  {
   "cell_type": "markdown",
   "metadata": {},
   "source": [
    "#### Predicition on my private dog photo"
   ]
  },
  {
   "cell_type": "code",
   "execution_count": 148,
   "metadata": {},
   "outputs": [
    {
     "data": {
      "application/vnd.jupyter.widget-view+json": {
       "model_id": "aaa74b2cbec34497ae0ca2379b247578",
       "version_major": 2,
       "version_minor": 0
      },
      "text/plain": [
       "HBox(children=(FloatProgress(value=0.0, max=1.0), HTML(value='')))"
      ]
     },
     "metadata": {},
     "output_type": "display_data"
    },
    {
     "name": "stdout",
     "output_type": "stream",
     "text": [
      "\n"
     ]
    }
   ],
   "source": [
    "X_predict, y_predict = load_photo_and_preprocess(\n",
    "    '/Users/alexdrozdz/JupyterNotebook/Cats_dogs/my_dog',\n",
    "    'cat',\n",
    "    'dog',\n",
    "    height,\n",
    "    width,\n",
    ")"
   ]
  },
  {
   "cell_type": "code",
   "execution_count": 149,
   "metadata": {},
   "outputs": [
    {
     "data": {
      "image/png": "[encoded data removed]",
      "text/plain": [
       "<Figure size 432x288 with 1 Axes>"
      ]
     },
     "metadata": {
      "needs_background": "light"
     },
     "output_type": "display_data"
    },
    {
     "name": "stdout",
     "output_type": "stream",
     "text": [
      "Label: dog\n"
     ]
    }
   ],
   "source": [
    "plot_image(0, X_predict, y_predict, 'cat', 'dog')"
   ]
  },
  {
   "cell_type": "code",
   "execution_count": 150,
   "metadata": {},
   "outputs": [],
   "source": [
    "X_predict = np.expand_dims(X_predict, -1)"
   ]
  },
  {
   "cell_type": "code",
   "execution_count": 153,
   "metadata": {},
   "outputs": [],
   "source": [
    "prediction = model.predict(X_predict)"
   ]
  },
  {
   "cell_type": "code",
   "execution_count": 154,
   "metadata": {},
   "outputs": [
    {
     "name": "stdout",
     "output_type": "stream",
     "text": [
      "Hey, that's right! Of course it's a dog! \n",
      "Dog probability: 83.63%, Cat probability: 16.36%. \n",
      "Btw his name is Billy :)\n"
     ]
    }
   ],
   "source": [
    "if prediction[0][1] > 0.5:\n",
    "    print(\n",
    "        f\"Hey, that's right! Of course it's a dog! \\nDog probability: {round(prediction[0][1]*100,2)}%, Cat probability: {round(prediction[0][0]*100,2)}%. \\nBtw his name is Billy :)\"\n",
    "    )\n",
    "elif prediction[0][1] < 0.5:\n",
    "    print(\n",
    "        f\"Egh prediction is bad! For a model it's a cat \\nDog probability: {round(prediction[0][1]*100,2)}%, Cat probability: {round(prediction[0][0]*100,2)}%\"\n",
    "    )"
   ]
  },
  {
   "cell_type": "code",
   "execution_count": null,
   "metadata": {},
   "outputs": [],
   "source": []
  },
  {
   "cell_type": "code",
   "execution_count": null,
   "metadata": {},
   "outputs": [],
   "source": []
  }
 ],
 "metadata": {
  "kernelspec": {
   "display_name": "Python 3",
   "language": "python",
   "name": "python3"
  },
  "language_info": {
   "codemirror_mode": {
    "name": "ipython",
    "version": 3
   },
   "file_extension": ".py",
   "mimetype": "text/x-python",
   "name": "python",
   "nbconvert_exporter": "python",
   "pygments_lexer": "ipython3",
   "version": "3.8.5"
  }
 },
 "nbformat": 4,
 "nbformat_minor": 4
}
