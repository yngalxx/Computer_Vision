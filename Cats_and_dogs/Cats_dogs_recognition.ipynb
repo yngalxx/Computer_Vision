{
 "cells": [
  {
   "cell_type": "code",
   "execution_count": 199,
   "metadata": {},
   "outputs": [],
   "source": [
    "%matplotlib inline\n",
    "\n",
    "import matplotlib.pyplot as plt\n",
    "import os\n",
    "import pandas as pd\n",
    "import numpy as np\n",
    "import random\n",
    "import cv2\n",
    "from sklearn import metrics\n",
    "from tqdm.notebook import trange, tqdm\n",
    "from sklearn import preprocessing\n",
    "import sys\n",
    "import tensorflow as tf\n",
    "from tensorflow import keras as k\n",
    "from tensorflow.keras.models import Sequential\n",
    "from sklearn.model_selection import train_test_split\n",
    "import glob\n",
    "\n",
    "import warnings\n",
    "warnings.filterwarnings('ignore')"
   ]
  },
  {
   "cell_type": "markdown",
   "metadata": {},
   "source": [
    "<b>Useful source:</b> https://towardsdatascience.com/wtf-is-image-classification-8e78a8235acb (general basic knowledge how to start dealing with computer vision), https://towardsdatascience.com/image-pre-processing-c1aec0be3edf (how to pre-process data), https://ujjwalkarn.me/2016/08/11/intuitive-explanation-convnets/ (how cnn works), https://ujjwalkarn.me/2016/08/09/quick-intro-neural-networks/ (quick introduction to nn in general), https://towardsdatascience.com/image-processing-techniques-for-computer-vision-11f92f511e21 (images preprocessing and data augmentation)"
   ]
  },
  {
   "cell_type": "markdown",
   "metadata": {},
   "source": [
    "### Operations used:"
   ]
  },
  {
   "cell_type": "markdown",
   "metadata": {},
   "source": [
    "#### 1) Standarization"
   ]
  },
  {
   "cell_type": "markdown",
   "metadata": {},
   "source": [
    "Resizing every image to exactly same shape"
   ]
  },
  {
   "cell_type": "markdown",
   "metadata": {},
   "source": [
    "#### 2) Denoise \n",
    "Smoothing images to remove noise we do not want them to appear on our photos. Noise is somrthing unwanted wich do not bring any information, moreover it could disrupt our model in recognizing our target. Our action helps enhance image structures."
   ]
  },
  {
   "cell_type": "markdown",
   "metadata": {},
   "source": [
    "#### 3) Grayscale (finally not used)\n",
    "\n",
    "Due to only one color channel in grayscale photos processing is at least 3 times faster. To gender recognition photos color in my opinion is not useful. When we will be predicting ethnicity in the next project's stage, color of photos could be useful. I will find out it during work on the second stage of project, because it's my first step to understand computer vision, so my knowledge about it is a bit basic now."
   ]
  },
  {
   "cell_type": "markdown",
   "metadata": {},
   "source": [
    "In computer vision is something called thumb rule to recognize color importance in a project. It refers to look at the picture with human eye and try to recognize object we are looking for in a grayscaled photo. If we can, color it's not important. I think that we are able to approximate human age without colors attendance at the picture, so in my opinion this rule is fullfiled in this case."
   ]
  },
  {
   "cell_type": "markdown",
   "metadata": {},
   "source": [
    "<b>Useful source:</b> https://manningbooks.medium.com/the-computer-vision-pipeline-part-3-image-preprocessing-c662094835ec"
   ]
  },
  {
   "cell_type": "markdown",
   "metadata": {},
   "source": [
    "#### 4) Normalization\n",
    "Firstly normalization of photos' pixels helps us avoid situation where big pixels dominate smaller ones because of huge range (here 0 to 255). Secondly many algorithms behave well on normalized data rather than on not normalized."
   ]
  },
  {
   "cell_type": "markdown",
   "metadata": {},
   "source": [
    "<b>Useful source:</b> https://medium.com/@kharikri/image-processing-tips-for-computer-vision-and-deep-learning-tasks-e5247ec94f3"
   ]
  },
  {
   "cell_type": "markdown",
   "metadata": {},
   "source": [
    "### Loading images and data manipulations"
   ]
  },
  {
   "cell_type": "code",
   "execution_count": 200,
   "metadata": {},
   "outputs": [],
   "source": [
    "# resizing variables\n",
    "height, width = 68, 68\n",
    "gray_scale = False\n",
    "if gray_scale == True:\n",
    "    channels = 1\n",
    "else:\n",
    "    channels = 3"
   ]
  },
  {
   "cell_type": "code",
   "execution_count": 201,
   "metadata": {},
   "outputs": [],
   "source": [
    "def load_photo_and_preprocess(\n",
    "    path_to_images, \n",
    "    class_1, \n",
    "    class_2,\n",
    "    height,\n",
    "    width,\n",
    "    gray_scale = True,\n",
    "):\n",
    "    X = []\n",
    "    y = []\n",
    "    os.chdir(path_to_images)\n",
    "    for img_name in tqdm(os.listdir(path_to_images)):\n",
    "        img = cv2.imread(img_name)   \n",
    "        # Standarization\n",
    "        img = cv2.resize(img, (height, width), interpolation = cv2.INTER_AREA)\n",
    "        # Denoise\n",
    "        img = cv2.GaussianBlur(img, (5, 5), 0)\n",
    "        # Grayscale \n",
    "        if gray_scale == True:\n",
    "            img = cv2.cvtColor(img, cv2.COLOR_BGR2GRAY)\n",
    "        else:\n",
    "            pass\n",
    "        # Normalization\n",
    "        img = img/255\n",
    "        X.append(img)\n",
    "        # Getting labels\n",
    "        if img_name.split('.')[0] == class_1:\n",
    "            y.append(0) \n",
    "        elif img_name.split('.')[0] == class_2:\n",
    "            y.append(1) \n",
    "\n",
    "    # transforming label to appropriate format\n",
    "    y = k.utils.to_categorical(y, num_classes=2)\n",
    "    \n",
    "    # list to array transform\n",
    "    X = np.array(X)\n",
    "    \n",
    "    return X, y"
   ]
  },
  {
   "cell_type": "code",
   "execution_count": 202,
   "metadata": {},
   "outputs": [
    {
     "data": {
      "application/vnd.jupyter.widget-view+json": {
       "model_id": "20a277f5bf354fecb933b820d9f66836",
       "version_major": 2,
       "version_minor": 0
      },
      "text/plain": [
       "HBox(children=(FloatProgress(value=0.0, max=25000.0), HTML(value='')))"
      ]
     },
     "metadata": {},
     "output_type": "display_data"
    },
    {
     "name": "stdout",
     "output_type": "stream",
     "text": [
      "\n"
     ]
    }
   ],
   "source": [
    "X, y = load_photo_and_preprocess(\n",
    "    '/Users/alexdrozdz/JupyterNotebook/Cats_dogs/Data',\n",
    "    'cat',\n",
    "    'dog',\n",
    "    height,\n",
    "    width,\n",
    "    gray_scale = gray_scale,\n",
    ")"
   ]
  },
  {
   "cell_type": "code",
   "execution_count": 203,
   "metadata": {},
   "outputs": [
    {
     "name": "stdout",
     "output_type": "stream",
     "text": [
      "Image shape:  (68, 68, 3)\n"
     ]
    }
   ],
   "source": [
    "print(\"Image shape: \", X[0].shape)"
   ]
  },
  {
   "cell_type": "code",
   "execution_count": 204,
   "metadata": {},
   "outputs": [],
   "source": [
    "def plot_image(\n",
    "    index, \n",
    "    X, \n",
    "    y, \n",
    "    class_1, \n",
    "    class_2,\n",
    "    gray_scale = True,\n",
    "):\n",
    "    if gray_scale == True:\n",
    "        plt.imshow(X[index], cmap='gray')\n",
    "    else:\n",
    "        img = X[index]\n",
    "        # opencv only supports image display and operation of float32, \n",
    "        # then float64 is a numpy data type, which is not supported in opencv.\n",
    "        img = img.astype('float32')\n",
    "        img = cv2.cvtColor(img, cv2.COLOR_BGRA2RGB)\n",
    "        plt.imshow(img)\n",
    "    plt.show()\n",
    "    if y[index][0] == 1:\n",
    "        label = class_1\n",
    "    elif y[index][0] == 0:\n",
    "        label = class_2\n",
    "    print(f\"Label: {label}\")"
   ]
  },
  {
   "cell_type": "code",
   "execution_count": 205,
   "metadata": {},
   "outputs": [
    {
     "data": {
      "image/png": "[encoded data removed]",
      "text/plain": [
       "<Figure size 432x288 with 1 Axes>"
      ]
     },
     "metadata": {
      "needs_background": "light"
     },
     "output_type": "display_data"
    },
    {
     "name": "stdout",
     "output_type": "stream",
     "text": [
      "Label: cat\n"
     ]
    }
   ],
   "source": [
    "plot_image(np.random.randint(len(X)), X, y, 'cat', 'dog', gray_scale = gray_scale)"
   ]
  },
  {
   "cell_type": "markdown",
   "metadata": {},
   "source": [
    "#### Train test split"
   ]
  },
  {
   "cell_type": "code",
   "execution_count": 229,
   "metadata": {},
   "outputs": [
    {
     "name": "stdout",
     "output_type": "stream",
     "text": [
      "Dataset length: 25000\n"
     ]
    }
   ],
   "source": [
    "print(f\"Dataset length: {len(X)}\")"
   ]
  },
  {
   "cell_type": "code",
   "execution_count": 230,
   "metadata": {},
   "outputs": [],
   "source": [
    "X_train, X_test, y_train, y_test = train_test_split(\n",
    "    X, y, test_size=0.2, shuffle=True, random_state = 1234\n",
    ")\n",
    "\n",
    "X_val, X_test, y_val, y_test = train_test_split(\n",
    "    X_test, y_test, test_size=0.5, shuffle=True, random_state = 1234\n",
    ")"
   ]
  },
  {
   "cell_type": "code",
   "execution_count": 231,
   "metadata": {},
   "outputs": [
    {
     "data": {
      "text/plain": [
       "{'X_train size': 20000,\n",
       " 'X_test size': 2500,\n",
       " 'X_val size': 2500,\n",
       " 'y_train size': 20000,\n",
       " 'y_test size': 2500,\n",
       " 'y_val size': 2500}"
      ]
     },
     "execution_count": 231,
     "metadata": {},
     "output_type": "execute_result"
    }
   ],
   "source": [
    "data_inf_dict = {\n",
    "    'X_train size': len(X_train),\n",
    "    'X_test size': len(X_test),\n",
    "   'X_val size': len(X_val),\n",
    "    'y_train size': len(y_train),\n",
    "    'y_test size': len(y_test),\n",
    "   'y_val size': len(y_val),\n",
    "}\n",
    "\n",
    "data_inf_dict"
   ]
  },
  {
   "cell_type": "code",
   "execution_count": 232,
   "metadata": {},
   "outputs": [],
   "source": [
    "def count_ratio(y, name):\n",
    "    class_0 = []\n",
    "    class_1 = []\n",
    "    for element in y:\n",
    "        if element[0] == 0:\n",
    "            class_0.append(1)\n",
    "        if element[0] == 1:\n",
    "            class_1.append(1)        \n",
    "            \n",
    "    ratio = str(\n",
    "        round(len(class_0)/(len(class_1)+len(class_0))*100,2)\n",
    "    ) + '/' + str(\n",
    "        100 - round(len(class_0)/(len(class_1)+len(class_0))*100,2)\n",
    "    )\n",
    "    \n",
    "    print(f\"{name} balance ratio: {ratio}\")"
   ]
  },
  {
   "cell_type": "code",
   "execution_count": 233,
   "metadata": {},
   "outputs": [
    {
     "name": "stdout",
     "output_type": "stream",
     "text": [
      "y_train balance ratio: 49.9/50.1\n",
      "y_test balance ratio: 49.88/50.12\n",
      "y_val balance ratio: 50.96/49.04\n"
     ]
    }
   ],
   "source": [
    "count_ratio(y_train, 'y_train')\n",
    "count_ratio(y_test, 'y_test')\n",
    "count_ratio(y_val, 'y_val')"
   ]
  },
  {
   "cell_type": "markdown",
   "metadata": {},
   "source": [
    "Classes in datasets are almost perfectly balanced after shuffle"
   ]
  },
  {
   "cell_type": "markdown",
   "metadata": {},
   "source": [
    "### Convolutional Neural Network"
   ]
  },
  {
   "cell_type": "markdown",
   "metadata": {},
   "source": [
    "#### Convolution layer\n",
    "Used to extract (filter) certain features from group of pixels"
   ]
  },
  {
   "cell_type": "markdown",
   "metadata": {},
   "source": [
    "#### Filters\n",
    "A set of weights - filter - to extract local features in convolutional layer\n",
    "\n",
    "The goal of using filters is to modify or enhance image properties and/or to extract valuable information from the pictures such as edges, corners, and blobs.\n",
    "\n",
    "Goals:\n",
    "- Extract out important information.\n",
    "- Remove noise or unwanted elements.\n",
    "- Enhance the image.\n",
    "- Give a certain look"
   ]
  },
  {
   "cell_type": "markdown",
   "metadata": {},
   "source": [
    "#### Non-linearity layer\n",
    "Often ReLU. Allows to deal with non-linearity data. ReLU change every negative value to 0."
   ]
  },
  {
   "cell_type": "markdown",
   "metadata": {},
   "source": [
    "#### Pooling layer\n",
    "Using to reduce dimensionality of input layer. "
   ]
  },
  {
   "cell_type": "markdown",
   "metadata": {},
   "source": [
    "#### 3 steps of feature learning:\n",
    "\n",
    "1. Learn features in input image through convolution\n",
    "2. Introduce non-linearity through activation function (real-world data is non-linear!)\n",
    "3. Reduce dimensionality and preserve spatial invariance with pooling"
   ]
  },
  {
   "cell_type": "markdown",
   "metadata": {},
   "source": [
    "#### Classification:\n",
    "After these 3 steps the next part of CNN is classification: \n",
    "- CONV and POOL layers output high-level features of input\n",
    "- Fully connected layer uses these features for classyfing input image\n",
    "- Express output as probability of image belonging to a particular class\n",
    "\n",
    "output features -> Fully Conected Layer (each neuron linked with each neuron, another name: Dense Layer) which output probability of image belongs to particulr class (softmax/sigmoid function)"
   ]
  },
  {
   "cell_type": "markdown",
   "metadata": {},
   "source": [
    "<b>Useful source:</b> https://ai.stanford.edu/~syyeung/cvweb/tutorial1.html, https://medium.com/towards-artificial-intelligence/image-filtering-dfe29581f859, https://www.youtube.com/watch?v=iaSUYvmCekI"
   ]
  },
  {
   "cell_type": "code",
   "execution_count": 234,
   "metadata": {},
   "outputs": [],
   "source": [
    "if gray_scale == True:\n",
    "    X_train = np.expand_dims(X_train, -1)\n",
    "    X_val = np.expand_dims(X_val, -1)\n",
    "    X_test = np.expand_dims(X_test, -1)\n",
    "else:\n",
    "    pass"
   ]
  },
  {
   "cell_type": "markdown",
   "metadata": {},
   "source": [
    "##### Batch:\n",
    "We can’t pass the entire dataset into the neural net at once. So, it's a need to divide dataset into parts, and batch size is a size of these parts.\n",
    "\n",
    "##### Epochs:\n",
    "One epoch means one pass of dataset forward and backward (computing and then weights adjusting).\n",
    "\n",
    "##### Iterations:\n",
    "Iterations is the number of batches needed to complete one epoch. 1000 training examples could be divided into baches of 100, then we need 10 iterations to end one epoch."
   ]
  },
  {
   "cell_type": "markdown",
   "metadata": {},
   "source": [
    "<b>Useful source:</b> https://towardsdatascience.com/epoch-vs-iterations-vs-batch-size-4dfb9c7ce9c9"
   ]
  },
  {
   "cell_type": "code",
   "execution_count": 254,
   "metadata": {},
   "outputs": [],
   "source": [
    "input_shape = (height, width, channels)\n",
    "batch_size = 32\n",
    "epochs = 30\n",
    "classes = 2"
   ]
  },
  {
   "cell_type": "markdown",
   "metadata": {},
   "source": [
    "##### Dropout:\n",
    "\n",
    "Dropout is ignoring ramdomly, with probability equals to 1-p, nodes in both hidden and not hidden layers. Dropout helps us prevent overfitting. Dropout is an approach to regularization in neural networks which helps reducing interdependent learning amongst the neurons.\n",
    "\n",
    "##### Batch Normalization:\n",
    "?"
   ]
  },
  {
   "cell_type": "code",
   "execution_count": 255,
   "metadata": {},
   "outputs": [],
   "source": [
    "# cnn model initialization\n",
    "model = Sequential([\n",
    "    k.layers.Conv2D(\n",
    "        filters=32, \n",
    "        kernel_size=(3,3), \n",
    "        padding='same', \n",
    "        activation='relu', \n",
    "        input_shape=input_shape,\n",
    "    ),\n",
    "    k.layers.MaxPooling2D(\n",
    "        pool_size=(2,2)\n",
    "    ),\n",
    "    k.layers.Dropout(0.5),\n",
    "    k.layers.BatchNormalization(),\n",
    "    k.layers.Conv2D(\n",
    "        filters=64, \n",
    "        kernel_size=(3,3), \n",
    "        padding='same', \n",
    "        activation='relu'\n",
    "    ),\n",
    "    k.layers.MaxPooling2D(\n",
    "        pool_size=(2,2)\n",
    "    ), \n",
    "    k.layers.Dropout(0.5),\n",
    "    k.layers.BatchNormalization(),\n",
    "    # flatten converts our 3D feature maps to 1D feature vectors\n",
    "    k.layers.Flatten(),\n",
    "    k.layers.Dense(\n",
    "        64, \n",
    "        activation='relu'\n",
    "    ),\n",
    "    k.layers.Dense(\n",
    "        classes,\n",
    "        activation='sigmoid'\n",
    "    )\n",
    "])"
   ]
  },
  {
   "cell_type": "code",
   "execution_count": 256,
   "metadata": {},
   "outputs": [],
   "source": [
    "# build model\n",
    "opt = k.optimizers.SGD(lr = 7e-3)\n",
    "model.compile( \n",
    "    loss = \"binary_crossentropy\", \n",
    "    optimizer = opt, \n",
    "    metrics=['accuracy']\n",
    ")"
   ]
  },
  {
   "cell_type": "code",
   "execution_count": 257,
   "metadata": {},
   "outputs": [
    {
     "name": "stdout",
     "output_type": "stream",
     "text": [
      "Model: \"sequential_12\"\n",
      "_________________________________________________________________\n",
      "Layer (type)                 Output Shape              Param #   \n",
      "=================================================================\n",
      "conv2d_24 (Conv2D)           (None, 68, 68, 32)        896       \n",
      "_________________________________________________________________\n",
      "max_pooling2d_24 (MaxPooling (None, 34, 34, 32)        0         \n",
      "_________________________________________________________________\n",
      "dropout_24 (Dropout)         (None, 34, 34, 32)        0         \n",
      "_________________________________________________________________\n",
      "batch_normalization_24 (Batc (None, 34, 34, 32)        128       \n",
      "_________________________________________________________________\n",
      "conv2d_25 (Conv2D)           (None, 34, 34, 64)        18496     \n",
      "_________________________________________________________________\n",
      "max_pooling2d_25 (MaxPooling (None, 17, 17, 64)        0         \n",
      "_________________________________________________________________\n",
      "dropout_25 (Dropout)         (None, 17, 17, 64)        0         \n",
      "_________________________________________________________________\n",
      "batch_normalization_25 (Batc (None, 17, 17, 64)        256       \n",
      "_________________________________________________________________\n",
      "flatten_12 (Flatten)         (None, 18496)             0         \n",
      "_________________________________________________________________\n",
      "dense_24 (Dense)             (None, 64)                1183808   \n",
      "_________________________________________________________________\n",
      "dense_25 (Dense)             (None, 2)                 130       \n",
      "=================================================================\n",
      "Total params: 1,203,714\n",
      "Trainable params: 1,203,522\n",
      "Non-trainable params: 192\n",
      "_________________________________________________________________\n"
     ]
    }
   ],
   "source": [
    "model.summary()"
   ]
  },
  {
   "cell_type": "code",
   "execution_count": 258,
   "metadata": {},
   "outputs": [],
   "source": [
    "# early stopping\n",
    "callback = tf.keras.callbacks.EarlyStopping(monitor='accuracy', patience=2)"
   ]
  },
  {
   "cell_type": "code",
   "execution_count": 259,
   "metadata": {},
   "outputs": [
    {
     "name": "stdout",
     "output_type": "stream",
     "text": [
      "Epoch 1/30\n",
      "625/625 [==============================] - 65s 105ms/step - loss: 0.6980 - accuracy: 0.5831 - val_loss: 0.6928 - val_accuracy: 0.5480\n",
      "Epoch 2/30\n",
      "625/625 [==============================] - 66s 105ms/step - loss: 0.6257 - accuracy: 0.6541 - val_loss: 0.7297 - val_accuracy: 0.5768\n",
      "Epoch 3/30\n",
      "625/625 [==============================] - 67s 107ms/step - loss: 0.5912 - accuracy: 0.6850 - val_loss: 0.5827 - val_accuracy: 0.6912\n",
      "Epoch 4/30\n",
      "625/625 [==============================] - 65s 104ms/step - loss: 0.5731 - accuracy: 0.6982 - val_loss: 0.6185 - val_accuracy: 0.6832\n",
      "Epoch 5/30\n",
      "625/625 [==============================] - 67s 107ms/step - loss: 0.5562 - accuracy: 0.7130 - val_loss: 0.5505 - val_accuracy: 0.7304\n",
      "Epoch 6/30\n",
      "625/625 [==============================] - 65s 105ms/step - loss: 0.5469 - accuracy: 0.7219 - val_loss: 0.7018 - val_accuracy: 0.6316\n",
      "Epoch 7/30\n",
      "625/625 [==============================] - 66s 105ms/step - loss: 0.5376 - accuracy: 0.7272 - val_loss: 0.6618 - val_accuracy: 0.6640\n",
      "Epoch 8/30\n",
      "625/625 [==============================] - 65s 105ms/step - loss: 0.5324 - accuracy: 0.7314 - val_loss: 0.5610 - val_accuracy: 0.7216\n",
      "Epoch 9/30\n",
      "625/625 [==============================] - 66s 105ms/step - loss: 0.5236 - accuracy: 0.7362 - val_loss: 0.6084 - val_accuracy: 0.6928\n",
      "Epoch 10/30\n",
      "625/625 [==============================] - 66s 105ms/step - loss: 0.5159 - accuracy: 0.7412 - val_loss: 0.7032 - val_accuracy: 0.6512\n",
      "Epoch 11/30\n",
      "625/625 [==============================] - 66s 105ms/step - loss: 0.5080 - accuracy: 0.7491 - val_loss: 0.6296 - val_accuracy: 0.6860\n",
      "Epoch 12/30\n",
      "625/625 [==============================] - 67s 107ms/step - loss: 0.5006 - accuracy: 0.7532 - val_loss: 0.6402 - val_accuracy: 0.6984\n",
      "Epoch 13/30\n",
      "625/625 [==============================] - 66s 106ms/step - loss: 0.4971 - accuracy: 0.7546 - val_loss: 0.5253 - val_accuracy: 0.7576\n",
      "Epoch 14/30\n",
      "625/625 [==============================] - 67s 106ms/step - loss: 0.4878 - accuracy: 0.7589 - val_loss: 0.6545 - val_accuracy: 0.6732\n",
      "Epoch 15/30\n",
      "625/625 [==============================] - 67s 107ms/step - loss: 0.4817 - accuracy: 0.7684 - val_loss: 0.5947 - val_accuracy: 0.7128\n",
      "Epoch 16/30\n",
      "625/625 [==============================] - 67s 107ms/step - loss: 0.4739 - accuracy: 0.7706 - val_loss: 0.5992 - val_accuracy: 0.7208\n",
      "Epoch 17/30\n",
      "625/625 [==============================] - 67s 108ms/step - loss: 0.4708 - accuracy: 0.7736 - val_loss: 0.5369 - val_accuracy: 0.7496\n",
      "Epoch 18/30\n",
      "625/625 [==============================] - 67s 107ms/step - loss: 0.4595 - accuracy: 0.7818 - val_loss: 0.6574 - val_accuracy: 0.6892\n",
      "Epoch 19/30\n",
      "625/625 [==============================] - 67s 107ms/step - loss: 0.4564 - accuracy: 0.7816 - val_loss: 0.5808 - val_accuracy: 0.7220\n",
      "Epoch 20/30\n",
      "625/625 [==============================] - 67s 108ms/step - loss: 0.4463 - accuracy: 0.7865 - val_loss: 0.5835 - val_accuracy: 0.7184\n",
      "Epoch 21/30\n",
      "625/625 [==============================] - 67s 108ms/step - loss: 0.4438 - accuracy: 0.7896 - val_loss: 0.6650 - val_accuracy: 0.6944\n",
      "Epoch 22/30\n",
      "625/625 [==============================] - 67s 107ms/step - loss: 0.4337 - accuracy: 0.7946 - val_loss: 0.5089 - val_accuracy: 0.7660\n",
      "Epoch 23/30\n",
      "625/625 [==============================] - 67s 108ms/step - loss: 0.4327 - accuracy: 0.7967 - val_loss: 0.6976 - val_accuracy: 0.6784\n",
      "Epoch 24/30\n",
      "625/625 [==============================] - 68s 109ms/step - loss: 0.4294 - accuracy: 0.7993 - val_loss: 0.5705 - val_accuracy: 0.7356\n",
      "Epoch 25/30\n",
      "625/625 [==============================] - 67s 108ms/step - loss: 0.4186 - accuracy: 0.8036 - val_loss: 0.5630 - val_accuracy: 0.7356\n",
      "Epoch 26/30\n",
      "625/625 [==============================] - 67s 106ms/step - loss: 0.4118 - accuracy: 0.8109 - val_loss: 0.5266 - val_accuracy: 0.7556\n",
      "Epoch 27/30\n",
      "625/625 [==============================] - 66s 106ms/step - loss: 0.4049 - accuracy: 0.8110 - val_loss: 0.5428 - val_accuracy: 0.7536\n",
      "Epoch 28/30\n",
      "625/625 [==============================] - 67s 107ms/step - loss: 0.3995 - accuracy: 0.8156 - val_loss: 0.5370 - val_accuracy: 0.7532\n",
      "Epoch 29/30\n",
      "625/625 [==============================] - 67s 107ms/step - loss: 0.3933 - accuracy: 0.8192 - val_loss: 0.5225 - val_accuracy: 0.7564\n",
      "Epoch 30/30\n",
      "625/625 [==============================] - 67s 107ms/step - loss: 0.3881 - accuracy: 0.8221 - val_loss: 0.6917 - val_accuracy: 0.7016\n"
     ]
    }
   ],
   "source": [
    "# train the model\n",
    "history = model.fit(\n",
    "    X_train, \n",
    "    y_train, \n",
    "    validation_data=(X_val, y_val), \n",
    "    epochs=epochs,\n",
    "    batch_size=batch_size,\n",
    "    verbose=1,\n",
    "    callbacks=[callback]\n",
    ")"
   ]
  },
  {
   "cell_type": "code",
   "execution_count": 260,
   "metadata": {},
   "outputs": [],
   "source": [
    "score = model.evaluate(X_test, y_test, verbose=0)"
   ]
  },
  {
   "cell_type": "code",
   "execution_count": 261,
   "metadata": {},
   "outputs": [
    {
     "name": "stdout",
     "output_type": "stream",
     "text": [
      "Model accuracy: 70.72%\n"
     ]
    }
   ],
   "source": [
    "print(f\"Model accuracy: {round(score[1]*100,2)}%\")"
   ]
  },
  {
   "cell_type": "markdown",
   "metadata": {},
   "source": [
    "##### Notes:\n",
    "* Photo size 68 x 68 -> 70% acc (10 epochs)\n",
    "* Photo size 128 x 128 -> really poor performance during training ~ 50% and not changing (10 epochs)\n",
    "* Photo size 32 x 32 -> 68% acc (10 epochs)\n",
    "* Photo size 32 x 32 -> 72% acc (20 epochs)\n",
    "* Photo size 32 x 32 -> 69% acc (40 epochs) - early stopped after 21 epochs\n",
    "* Photo size 68 x 68 -> 74% acc (20 epochs) - early stopped after 17 epochs\n",
    "* Photo size 68 x 68, medianBlur instead of GaussianBlur -> 74% acc (20 epochs)\n",
    "* Photo size 68 x 68, GaussianBlur (3,3) instead of (5,5) -> really poor performance during training ~ 50% and not changing (20 epochs)\n",
    "* Photo size 68 x 68, SGD optimizer instead of Adam (same lr) -> 74% acc (20 epochs)\n",
    "* Photo size 68 x 68, SGD optimizet (lr=6e-3) -> 75% acc (20 epochs)\n",
    "* Photo size 68 x 68, SGD optimizet (lr=7e-3) -> 70% acc (30 epochs)\n",
    "\n",
    "Thing to remember: as I read medianBlur is highly effective against salt-and-pepper noise in an image."
   ]
  },
  {
   "cell_type": "code",
   "execution_count": 243,
   "metadata": {},
   "outputs": [],
   "source": [
    "def plot_history(model):\n",
    "    plt.plot(model.history['accuracy'])\n",
    "    plt.plot(model.history['val_accuracy'])\n",
    "    plt.legend(['accuracy', 'val_accuracy'], loc='upper left')\n",
    "    plt.show()"
   ]
  },
  {
   "cell_type": "code",
   "execution_count": 244,
   "metadata": {},
   "outputs": [
    {
     "data": {
      "image/png": "[encoded data removed]",
      "text/plain": [
       "<Figure size 432x288 with 1 Axes>"
      ]
     },
     "metadata": {
      "needs_background": "light"
     },
     "output_type": "display_data"
    }
   ],
   "source": [
    "plot_history(history)"
   ]
  },
  {
   "cell_type": "markdown",
   "metadata": {},
   "source": [
    "#### Predicition on my private dog photo"
   ]
  },
  {
   "cell_type": "code",
   "execution_count": 245,
   "metadata": {},
   "outputs": [
    {
     "data": {
      "application/vnd.jupyter.widget-view+json": {
       "model_id": "a85966ce86454331a2e752d25bf1cba5",
       "version_major": 2,
       "version_minor": 0
      },
      "text/plain": [
       "HBox(children=(FloatProgress(value=0.0, max=1.0), HTML(value='')))"
      ]
     },
     "metadata": {},
     "output_type": "display_data"
    },
    {
     "name": "stdout",
     "output_type": "stream",
     "text": [
      "\n"
     ]
    }
   ],
   "source": [
    "X_predict, y_predict = load_photo_and_preprocess(\n",
    "    '/Users/alexdrozdz/JupyterNotebook/Cats_dogs/my_dog',\n",
    "    'cat',\n",
    "    'dog',\n",
    "    height,\n",
    "    width,\n",
    "    gray_scale=False\n",
    ")"
   ]
  },
  {
   "cell_type": "code",
   "execution_count": 246,
   "metadata": {},
   "outputs": [
    {
     "data": {
      "image/png": "[encoded data removed]",
      "text/plain": [
       "<Figure size 432x288 with 1 Axes>"
      ]
     },
     "metadata": {
      "needs_background": "light"
     },
     "output_type": "display_data"
    },
    {
     "name": "stdout",
     "output_type": "stream",
     "text": [
      "Label: dog\n"
     ]
    }
   ],
   "source": [
    "plot_image(0, X_predict, y_predict, 'cat', 'dog', gray_scale=False)"
   ]
  },
  {
   "cell_type": "code",
   "execution_count": 247,
   "metadata": {},
   "outputs": [],
   "source": [
    "if gray_scale == True:\n",
    "    X_predict = np.expand_dims(X_predict, -1)\n",
    "else:\n",
    "    pass"
   ]
  },
  {
   "cell_type": "code",
   "execution_count": 249,
   "metadata": {},
   "outputs": [],
   "source": [
    "prediction = model.predict(X_predict)"
   ]
  },
  {
   "cell_type": "code",
   "execution_count": 250,
   "metadata": {},
   "outputs": [
    {
     "name": "stdout",
     "output_type": "stream",
     "text": [
      "Hey, that's right! Of course it's a dog! \n",
      "Dog probability: 99.27%, Cat probability: 0.61%. \n",
      "Btw his name is Billy :)\n"
     ]
    }
   ],
   "source": [
    "if prediction[0][1] > 0.5:\n",
    "    print(\n",
    "        f\"Hey, that's right! Of course it's a dog! \\nDog probability: {round(prediction[0][1]*100,2)}%, Cat probability: {round(prediction[0][0]*100,2)}%. \\nBtw his name is Billy :)\"\n",
    "    )\n",
    "elif prediction[0][1] < 0.5:\n",
    "    print(\n",
    "        f\"Egh prediction is bad! For a model it's a cat \\nDog probability: {round(prediction[0][1]*100,2)}%, Cat probability: {round(prediction[0][0]*100,2)}%\"\n",
    "    )"
   ]
  },
  {
   "cell_type": "code",
   "execution_count": null,
   "metadata": {},
   "outputs": [],
   "source": []
  },
  {
   "cell_type": "code",
   "execution_count": null,
   "metadata": {},
   "outputs": [],
   "source": []
  },
  {
   "cell_type": "code",
   "execution_count": null,
   "metadata": {},
   "outputs": [],
   "source": []
  }
 ],
 "metadata": {
  "kernelspec": {
   "display_name": "Python 3",
   "language": "python",
   "name": "python3"
  },
  "language_info": {
   "codemirror_mode": {
    "name": "ipython",
    "version": 3
   },
   "file_extension": ".py",
   "mimetype": "text/x-python",
   "name": "python",
   "nbconvert_exporter": "python",
   "pygments_lexer": "ipython3",
   "version": "3.8.5"
  }
 },
 "nbformat": 4,
 "nbformat_minor": 4
}
